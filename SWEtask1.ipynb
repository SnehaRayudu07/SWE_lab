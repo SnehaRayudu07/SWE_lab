{
  "nbformat": 4,
  "nbformat_minor": 0,
  "metadata": {
    "colab": {
      "provenance": [],
      "collapsed_sections": [
        "rb22o7C5FMmN",
        "uDT8gl6cFOvA",
        "tKKc_IY4JZ2N",
        "CeBuUX7pOtNK"
      ],
      "include_colab_link": true
    },
    "kernelspec": {
      "name": "python3",
      "display_name": "Python 3"
    },
    "language_info": {
      "name": "python"
    }
  },
  "cells": [
    {
      "cell_type": "markdown",
      "metadata": {
        "id": "view-in-github",
        "colab_type": "text"
      },
      "source": [
        "<a href=\"https://colab.research.google.com/github/SnehaRayudu07/SWE_lab/blob/main/SWEtask1.ipynb\" target=\"_parent\"><img src=\"https://colab.research.google.com/assets/colab-badge.svg\" alt=\"Open In Colab\"/></a>"
      ]
    },
    {
      "cell_type": "markdown",
      "source": [
        "##Static"
      ],
      "metadata": {
        "id": "rb22o7C5FMmN"
      }
    },
    {
      "cell_type": "code",
      "source": [
        "t = 30\n",
        "h = 60\n",
        "w = 10\n",
        "we = (0.5*t*t)-(0.2*h)+(0.1*w)-15\n",
        "if(we>300):\n",
        "  print(\"Sunny\")\n",
        "elif(200<we<300):\n",
        "  print(\"cloudy\")\n",
        "elif(100<we<200):\n",
        "  print(\"rainy\")\n",
        "else:\n",
        "  print(\"stormy\")"
      ],
      "metadata": {
        "colab": {
          "base_uri": "https://localhost:8080/"
        },
        "id": "YSIb9YsLE9ax",
        "outputId": "eb20858f-71a3-49d8-b7c7-8a363b2e613c"
      },
      "execution_count": null,
      "outputs": [
        {
          "output_type": "stream",
          "name": "stdout",
          "text": [
            "Sunny\n"
          ]
        }
      ]
    },
    {
      "cell_type": "markdown",
      "source": [
        "##Dynamic"
      ],
      "metadata": {
        "id": "uDT8gl6cFOvA"
      }
    },
    {
      "cell_type": "code",
      "execution_count": null,
      "metadata": {
        "colab": {
          "base_uri": "https://localhost:8080/"
        },
        "id": "mqShN8GmD1GX",
        "outputId": "e2a487f6-5fa7-477e-9d5b-f5bb97fdc037"
      },
      "outputs": [
        {
          "output_type": "stream",
          "name": "stdout",
          "text": [
            "Enter Temperature in celcius: 20\n",
            "Enter Humidity in percentage: 80\n",
            "Enter Wind speed in KMPH: 30\n",
            "rainy\n"
          ]
        }
      ],
      "source": [
        "t = int(input(\"Enter Temperature in celcius: \"))\n",
        "h = int(input(\"Enter Humidity in percentage: \"))\n",
        "w = int(input(\"Enter Wind speed in KMPH: \"))\n",
        "we = (0.5*t*t)-(0.2*h)+(0.1*w)-15\n",
        "if(we>300):\n",
        "  print(\"Sunny\")\n",
        "elif(200<we<300):\n",
        "  print(\"cloudy\")\n",
        "elif(100<we<200):\n",
        "  print(\"rainy\")\n",
        "else:\n",
        "  print(\"stormy\")"
      ]
    },
    {
      "cell_type": "markdown",
      "source": [
        "##Folder Reader\n"
      ],
      "metadata": {
        "id": "tKKc_IY4JZ2N"
      }
    },
    {
      "cell_type": "code",
      "source": [
        "file1 = open(\"randomt.txt\",\"r\")\n",
        "l=file1.readlines()\n",
        "t = int(l[0])\n",
        "h = int(l[1])\n",
        "w = int(l[2])\n",
        "we = (0.5*t*t)-(0.2*h)+(0.1*w)-15\n",
        "if(we>300):\n",
        "  print(\"Sunny\")\n",
        "elif(200<we<300):\n",
        "  print(\"cloudy\")\n",
        "elif(100<we<200):\n",
        "  print(\"rainy\")\n",
        "else:\n",
        "  print(\"stormy\")"
      ],
      "metadata": {
        "colab": {
          "base_uri": "https://localhost:8080/"
        },
        "id": "MpBgew9CJvjr",
        "outputId": "39175659-a30b-45f2-88ff-d2815aa25b17"
      },
      "execution_count": null,
      "outputs": [
        {
          "output_type": "stream",
          "name": "stdout",
          "text": [
            "rainy\n"
          ]
        }
      ]
    },
    {
      "cell_type": "markdown",
      "source": [
        "##Multiple Inputs"
      ],
      "metadata": {
        "id": "CeBuUX7pOtNK"
      }
    },
    {
      "cell_type": "code",
      "source": [
        "i = int(input(\"Enter the number of inputs: \"))\n",
        "for j in range(0,i):\n",
        "  t = int(input(\"Enter Temperature in celcius: \"))\n",
        "  h = int(input(\"Enter Humidity in percentage: \"))\n",
        "  w = int(input(\"Enter Wind speed in KMPH: \"))\n",
        "  print(j+1,\"th input's output: \")\n",
        "  we = (0.5*t*t)-(0.2*h)+(0.1*w)-15\n",
        "  if(we>300):\n",
        "    print(\"Sunny\")\n",
        "  elif(200<we<300):\n",
        "    print(\"cloudy\")\n",
        "  elif(100<we<200):\n",
        "    print(\"rainy\")\n",
        "  else:\n",
        "    print(\"stormy\")\n",
        "  print(\"-------------------\")"
      ],
      "metadata": {
        "colab": {
          "base_uri": "https://localhost:8080/"
        },
        "id": "58i-KxTrOwzJ",
        "outputId": "1c7fa671-1fa5-4565-c79f-fe2e2e681d25"
      },
      "execution_count": null,
      "outputs": [
        {
          "output_type": "stream",
          "name": "stdout",
          "text": [
            "Enter the number of inputs: 2\n",
            "Enter Temperature in celcius: 20\n",
            "Enter Humidity in percentage: 30\n",
            "Enter Wind speed in KMPH: 20\n",
            "1 th input's output: \n",
            "rainy\n",
            "-------------------\n",
            "Enter Temperature in celcius: 30\n",
            "Enter Humidity in percentage: 20\n",
            "Enter Wind speed in KMPH: 50\n",
            "2 th input's output: \n",
            "Sunny\n",
            "-------------------\n"
          ]
        }
      ]
    }
  ]
}